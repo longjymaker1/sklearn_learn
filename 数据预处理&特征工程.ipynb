{
 "cells": [
  {
   "cell_type": "markdown",
   "metadata": {},
   "source": [
    "# 1.0数据预处理"
   ]
  },
  {
   "cell_type": "markdown",
   "metadata": {},
   "source": [
    "如果数据不给力在高级的算法都没有有，所以进行数据预处理，甚至90%以上的时间是在数据预处理上"
   ]
  },
  {
   "cell_type": "markdown",
   "metadata": {},
   "source": [
    "## 1.1数据挖掘五大步骤\n",
    "1. 获取数据\n",
    "2. 数据预处理，从数据中检测、纠正或删除损坏、不准确或不适用模型的记录的过程。可能的问题有：数据类型不同，有含时间序列的数据，数据质量不行，有噪音、有异常、数据出错、量纲不一......\n",
    "3. 特征工程，将原始数据转换为更能代表预测模型的潜在问题的特征的过程。特征工程的目的：1)降低计算成本;2)提升模型上限\n",
    "4. 建模，测试模型并预测结果\n",
    "5. 上线"
   ]
  },
  {
   "cell_type": "markdown",
   "metadata": {},
   "source": [
    "## 1.2 Sklearn中的数据预处理和特征工程\n",
    "在sklearn中有`Dimensionality reduction`降维度，`Preprocessing`数据预处理两个模块\n",
    "* 模块 `Preprocessing` 几乎包含所有数据预处理的内容\n",
    "* 模块 `Impute` 填补缺失值专用\n",
    "* 模块 `feature_selection` 包含特征选择的各种方法和实践\n",
    "* 模块 `decomposition` 包含将维算法"
   ]
  },
  {
   "cell_type": "markdown",
   "metadata": {},
   "source": [
    "# 2.0数据预处理 Preprocessing & Impute\n",
    "## 2.1无量纲化\n",
    "在机器学习算法中往往有讲不同规格的数据转化为同一规格数据，或者有不同分布转化为相同分布的需求，这种需求就是`无量纲化`。\n",
    "在以梯度和矩阵为核心的算法中，如SVM，逻辑回归，神经网络，无量纲化可以加速求解;\n",
    "在距离类模型，如K近邻，k-means聚类中，无量纲化可以提升模型的精度\n",
    "\n",
    "数据的无量纲化可以说线性的也可以是非线性的。线性的无量纲包括`中心化处理`和`缩放处理`"
   ]
  },
  {
   "cell_type": "markdown",
   "metadata": {},
   "source": [
    "### preprocessing.MinMaxScaler\n",
    "当数据(x)按照最小值中心化后，再按照极差(最大值-最小值)缩放，数据移动了最小值个单位，并且会被收敛到[0,1]之间，之个叫做`数据归一化(Normalization 或 Min-Max Scaling)`。归一化的数据服从正态分布\n",
    "$$x^*=\\frac{x-min(x)}{max(x)-min(x)}$$\n",
    "\n",
    "在sklearn中preprocessing.MinMaxScaler来实现这个功能，其中MinMaxScaler中`feature_range`控制数据压缩到哪个范围，默认[0,1]"
   ]
  },
  {
   "cell_type": "code",
   "execution_count": 3,
   "metadata": {},
   "outputs": [],
   "source": [
    "from sklearn.preprocessing import MinMaxScaler\n",
    "import pandas as pd"
   ]
  },
  {
   "cell_type": "code",
   "execution_count": 6,
   "metadata": {},
   "outputs": [
    {
     "data": {
      "text/plain": [
       "array([[0.  , 0.  ],\n",
       "       [0.25, 0.25],\n",
       "       [0.5 , 0.5 ],\n",
       "       [1.  , 1.  ]])"
      ]
     },
     "execution_count": 6,
     "metadata": {},
     "output_type": "execute_result"
    }
   ],
   "source": [
    "data = [[-1,2], [-0.5,6], [0,10], [1,18]]\n",
    "datadf = pd.DataFrame(data)\n",
    "\n",
    "scaler = MinMaxScaler()  # 实例化\n",
    "scaler = scaler.fit(datadf)  # fit的本质是生成min(x)和max(x)\n",
    "result = scaler.transform(datadf)  # 通过接口导出结果\n",
    "result"
   ]
  },
  {
   "cell_type": "code",
   "execution_count": 8,
   "metadata": {},
   "outputs": [
    {
     "data": {
      "text/plain": [
       "array([[0.  , 0.  ],\n",
       "       [0.25, 0.25],\n",
       "       [0.5 , 0.5 ],\n",
       "       [1.  , 1.  ]])"
      ]
     },
     "execution_count": 8,
     "metadata": {},
     "output_type": "execute_result"
    }
   ],
   "source": [
    "result_ = scaler.fit_transform(datadf)  # 训练和结果一步达成\n",
    "result_"
   ]
  },
  {
   "cell_type": "code",
   "execution_count": 9,
   "metadata": {},
   "outputs": [
    {
     "data": {
      "text/plain": [
       "array([[-1. ,  2. ],\n",
       "       [-0.5,  6. ],\n",
       "       [ 0. , 10. ],\n",
       "       [ 1. , 18. ]])"
      ]
     },
     "execution_count": 9,
     "metadata": {},
     "output_type": "execute_result"
    }
   ],
   "source": [
    "scaler.inverse_transform(result_)  # 讲归一化结果逆转或者复原"
   ]
  },
  {
   "cell_type": "code",
   "execution_count": 10,
   "metadata": {},
   "outputs": [
    {
     "data": {
      "text/plain": [
       "array([[0.  , 0.  ],\n",
       "       [0.25, 0.25],\n",
       "       [0.5 , 0.5 ],\n",
       "       [1.  , 1.  ]])"
      ]
     },
     "execution_count": 10,
     "metadata": {},
     "output_type": "execute_result"
    }
   ],
   "source": [
    "#当X的特征向量特别多时，fit会报错\n",
    "# 此时使用partial_fit作为训练接口\n",
    "scaler = scaler.partial_fit(datadf)\n",
    "result_2 = scaler.transform(datadf)\n",
    "result_2"
   ]
  },
  {
   "cell_type": "markdown",
   "metadata": {},
   "source": [
    "### preprocessing.StandardScaler\n",
    "当数据(x)按照均值($\\mu$)中心化后，在按照标准差($\\sigma$)缩放，数据就会服从均值为0，方差为1的正态分布，这个过程就是`数据标准化(Standardization)`\n",
    "$$x^* = \\frac{x-\\mu}{\\sigma}$$"
   ]
  },
  {
   "cell_type": "code",
   "execution_count": 15,
   "metadata": {},
   "outputs": [
    {
     "data": {
      "text/plain": [
       "array([[-1.18321596, -1.18321596],\n",
       "       [-0.50709255, -0.50709255],\n",
       "       [ 0.16903085,  0.16903085],\n",
       "       [ 1.52127766,  1.52127766]])"
      ]
     },
     "execution_count": 15,
     "metadata": {},
     "output_type": "execute_result"
    }
   ],
   "source": [
    "from sklearn.preprocessing import StandardScaler\n",
    "\n",
    "data = [[-1,2], [-0.5,6], [0,10], [1,18]]\n",
    "datadf = pd.DataFrame(data)\n",
    "\n",
    "scaler = StandardScaler()  # 实例化\n",
    "scaler = scaler.fit(datadf)  # fit的本质是生成方差和均值\n",
    "\n",
    "scaler.mean_  # 查看均值\n",
    "scaler.var_  # 查看方差\n",
    "\n",
    "x_std = scaler.transform(datadf)\n",
    "x_std"
   ]
  },
  {
   "cell_type": "code",
   "execution_count": 18,
   "metadata": {},
   "outputs": [],
   "source": [
    "x_std = scaler.fit_transform(datadf)  # 一步达成效果"
   ]
  },
  {
   "cell_type": "code",
   "execution_count": 19,
   "metadata": {},
   "outputs": [
    {
     "data": {
      "text/plain": [
       "array([[-1.18321596, -1.18321596],\n",
       "       [-0.50709255, -0.50709255],\n",
       "       [ 0.16903085,  0.16903085],\n",
       "       [ 1.52127766,  1.52127766]])"
      ]
     },
     "execution_count": 19,
     "metadata": {},
     "output_type": "execute_result"
    }
   ],
   "source": [
    "x_std"
   ]
  },
  {
   "cell_type": "markdown",
   "metadata": {},
   "source": [
    "对于`StdandarScaler`和`MinMaxScaler`来说，空值`NaN`会被当成缺失值，在fit的时候忽略掉，在transform时保持NaN状态显示\n",
    "并且导入数据至少是二位数组"
   ]
  },
  {
   "cell_type": "markdown",
   "metadata": {},
   "source": [
    "### `StdandarScaler`和`MinMaxScaler`选择哪个\n",
    "大多数算法会选择StdandarScaler，因为MinMaxScaler对异常值非常敏感\n",
    "在不涉及距离、梯度、协方差计算以及数据需要被压缩到一个特定区间时可以使用\n",
    "\n",
    "通常先使用StdandarScaler 如果不理想再使用MinMaxScaler"
   ]
  },
  {
   "cell_type": "markdown",
   "metadata": {},
   "source": [
    "## 2.2缺失值处理"
   ]
  },
  {
   "cell_type": "code",
   "execution_count": 4,
   "metadata": {},
   "outputs": [],
   "source": [
    "datadf1 = pd.read_excel(r\"D:\\data\\test.xlsx\")"
   ]
  },
  {
   "cell_type": "code",
   "execution_count": 5,
   "metadata": {},
   "outputs": [
    {
     "data": {
      "text/html": [
       "<div>\n",
       "<style scoped>\n",
       "    .dataframe tbody tr th:only-of-type {\n",
       "        vertical-align: middle;\n",
       "    }\n",
       "\n",
       "    .dataframe tbody tr th {\n",
       "        vertical-align: top;\n",
       "    }\n",
       "\n",
       "    .dataframe thead th {\n",
       "        text-align: right;\n",
       "    }\n",
       "</style>\n",
       "<table border=\"1\" class=\"dataframe\">\n",
       "  <thead>\n",
       "    <tr style=\"text-align: right;\">\n",
       "      <th></th>\n",
       "      <th>category_group</th>\n",
       "      <th>type0</th>\n",
       "      <th>goods_id</th>\n",
       "      <th>shop_prie</th>\n",
       "      <th>sale_price</th>\n",
       "      <th>type</th>\n",
       "    </tr>\n",
       "  </thead>\n",
       "  <tbody>\n",
       "    <tr>\n",
       "      <th>0</th>\n",
       "      <td>婴童时尚</td>\n",
       "      <td>A</td>\n",
       "      <td>5833644</td>\n",
       "      <td>14.37</td>\n",
       "      <td>12.78</td>\n",
       "      <td>M</td>\n",
       "    </tr>\n",
       "    <tr>\n",
       "      <th>1</th>\n",
       "      <td>婴童时尚</td>\n",
       "      <td>A</td>\n",
       "      <td>5784914</td>\n",
       "      <td>83.04</td>\n",
       "      <td>49.50</td>\n",
       "      <td>M</td>\n",
       "    </tr>\n",
       "    <tr>\n",
       "      <th>2</th>\n",
       "      <td>NaN</td>\n",
       "      <td>A</td>\n",
       "      <td>2221972</td>\n",
       "      <td>15.17</td>\n",
       "      <td>NaN</td>\n",
       "      <td>M</td>\n",
       "    </tr>\n",
       "    <tr>\n",
       "      <th>3</th>\n",
       "      <td>婴童时尚</td>\n",
       "      <td>A</td>\n",
       "      <td>5099362</td>\n",
       "      <td>13.30</td>\n",
       "      <td>10.58</td>\n",
       "      <td>M</td>\n",
       "    </tr>\n",
       "    <tr>\n",
       "      <th>4</th>\n",
       "      <td>beauty</td>\n",
       "      <td>A</td>\n",
       "      <td>6691189</td>\n",
       "      <td>11.18</td>\n",
       "      <td>5.86</td>\n",
       "      <td>M</td>\n",
       "    </tr>\n",
       "  </tbody>\n",
       "</table>\n",
       "</div>"
      ],
      "text/plain": [
       "  category_group type0  goods_id  shop_prie  sale_price type\n",
       "0           婴童时尚     A   5833644      14.37       12.78    M\n",
       "1           婴童时尚     A   5784914      83.04       49.50    M\n",
       "2            NaN     A   2221972      15.17         NaN    M\n",
       "3           婴童时尚     A   5099362      13.30       10.58    M\n",
       "4         beauty     A   6691189      11.18        5.86    M"
      ]
     },
     "execution_count": 5,
     "metadata": {},
     "output_type": "execute_result"
    }
   ],
   "source": [
    "datadf1.head()"
   ]
  },
  {
   "cell_type": "code",
   "execution_count": 6,
   "metadata": {},
   "outputs": [],
   "source": [
    "from sklearn.impute import SimpleImputer  # 处理缺失值模块\n",
    "# clas sklearn.impute.SimpleImputer(missing_values=nan, stragegy=\"mean\", fill_value=None, verbose=0, copy=Ture)\n",
    "# missing_values 告诉SimpleImputer缺失值长什么样子，默认是np.nan,也可以设置为0 或者其他数字\n",
    "# stragegy 填充缺失值策略, 默认mean\n",
    "#          mean 使用均值填充(仅对数值型有效)\n",
    "#          median 使用中值填充(仅对数值型有效)\n",
    "#          most_frequent 使用众数填充(数值和字符串)\n",
    "#          constant 参考fill_value中的值，与fill_value参数配合使用(数值和字符串)\n",
    "# fill_value 当 stragegy = constant时可用，可以输入字符或数值表示要填充的值，通常用0\n",
    "# copy 默认Ture, 创建特征矩阵的副本，False将填充原数据中"
   ]
  },
  {
   "cell_type": "code",
   "execution_count": 7,
   "metadata": {},
   "outputs": [
    {
     "name": "stdout",
     "output_type": "stream",
     "text": [
      "<class 'pandas.core.frame.DataFrame'>\n",
      "RangeIndex: 4364 entries, 0 to 4363\n",
      "Data columns (total 6 columns):\n",
      " #   Column          Non-Null Count  Dtype  \n",
      "---  ------          --------------  -----  \n",
      " 0   category_group  4361 non-null   object \n",
      " 1   type0           4364 non-null   object \n",
      " 2   goods_id        4364 non-null   int64  \n",
      " 3   shop_prie       4364 non-null   float64\n",
      " 4   sale_price      4122 non-null   float64\n",
      " 5   type            3876 non-null   object \n",
      "dtypes: float64(2), int64(1), object(3)\n",
      "memory usage: 153.5+ KB\n"
     ]
    }
   ],
   "source": [
    "datadf1.info()  # 查看数据基础信息，数据类型、是否为空"
   ]
  },
  {
   "cell_type": "code",
   "execution_count": 8,
   "metadata": {},
   "outputs": [],
   "source": [
    "Sales = datadf1['sale_price'].values.reshape(-1,1)  # skearn中的矩阵必须是二维矩阵\n",
    "imp_mean = SimpleImputer()  # 实例化，默认均值\n",
    "imp_median = SimpleImputer(strategy='median')  # 实例化，使用中值填充\n",
    "imp_0 = SimpleImputer(strategy=\"constant\", fill_value=0)  # 实例化，使用0填充\n",
    "\n",
    "# 使用fit_transform完成调整结果\n",
    "imp_mean = imp_mean.fit_transform(Sales)\n",
    "imp_median = imp_median.fit_transform(Sales)\n",
    "imp_0 = imp_0.fit_transform(Sales)"
   ]
  },
  {
   "cell_type": "code",
   "execution_count": 9,
   "metadata": {},
   "outputs": [
    {
     "data": {
      "text/plain": [
       "array([[12.77999973],\n",
       "       [49.5       ],\n",
       "       [18.59736536],\n",
       "       [10.57999992],\n",
       "       [ 5.86000013],\n",
       "       [ 6.11999989],\n",
       "       [29.27999973],\n",
       "       [31.40999985],\n",
       "       [ 5.86000013],\n",
       "       [21.28000069],\n",
       "       [15.73999977],\n",
       "       [ 5.86000013],\n",
       "       [18.59736536],\n",
       "       [ 6.11999989],\n",
       "       [41.52000046],\n",
       "       [61.5       ],\n",
       "       [11.71000004],\n",
       "       [ 8.77999997],\n",
       "       [ 8.14000034],\n",
       "       [18.07999992]])"
      ]
     },
     "execution_count": 9,
     "metadata": {},
     "output_type": "execute_result"
    }
   ],
   "source": [
    "imp_mean[0:20]"
   ]
  },
  {
   "cell_type": "code",
   "execution_count": 10,
   "metadata": {},
   "outputs": [
    {
     "data": {
      "text/plain": [
       "array([[12.77999973],\n",
       "       [49.5       ],\n",
       "       [12.23999977],\n",
       "       [10.57999992],\n",
       "       [ 5.86000013],\n",
       "       [ 6.11999989],\n",
       "       [29.27999973],\n",
       "       [31.40999985],\n",
       "       [ 5.86000013],\n",
       "       [21.28000069],\n",
       "       [15.73999977],\n",
       "       [ 5.86000013],\n",
       "       [12.23999977],\n",
       "       [ 6.11999989],\n",
       "       [41.52000046],\n",
       "       [61.5       ],\n",
       "       [11.71000004],\n",
       "       [ 8.77999997],\n",
       "       [ 8.14000034],\n",
       "       [18.07999992]])"
      ]
     },
     "execution_count": 10,
     "metadata": {},
     "output_type": "execute_result"
    }
   ],
   "source": [
    "imp_median[0:20]"
   ]
  },
  {
   "cell_type": "code",
   "execution_count": 11,
   "metadata": {},
   "outputs": [
    {
     "data": {
      "text/plain": [
       "array([[12.77999973],\n",
       "       [49.5       ],\n",
       "       [ 0.        ],\n",
       "       [10.57999992],\n",
       "       [ 5.86000013],\n",
       "       [ 6.11999989],\n",
       "       [29.27999973],\n",
       "       [31.40999985],\n",
       "       [ 5.86000013],\n",
       "       [21.28000069],\n",
       "       [15.73999977],\n",
       "       [ 5.86000013],\n",
       "       [ 0.        ],\n",
       "       [ 6.11999989],\n",
       "       [41.52000046],\n",
       "       [61.5       ],\n",
       "       [11.71000004],\n",
       "       [ 8.77999997],\n",
       "       [ 8.14000034],\n",
       "       [18.07999992]])"
      ]
     },
     "execution_count": 11,
     "metadata": {},
     "output_type": "execute_result"
    }
   ],
   "source": [
    "imp_0[0:20]"
   ]
  },
  {
   "cell_type": "code",
   "execution_count": 12,
   "metadata": {},
   "outputs": [],
   "source": [
    "# 调整数据\n",
    "datadf1['sale_price'] = imp_mean"
   ]
  },
  {
   "cell_type": "code",
   "execution_count": 13,
   "metadata": {},
   "outputs": [
    {
     "name": "stdout",
     "output_type": "stream",
     "text": [
      "<class 'pandas.core.frame.DataFrame'>\n",
      "RangeIndex: 4364 entries, 0 to 4363\n",
      "Data columns (total 6 columns):\n",
      " #   Column          Non-Null Count  Dtype  \n",
      "---  ------          --------------  -----  \n",
      " 0   category_group  4361 non-null   object \n",
      " 1   type0           4364 non-null   object \n",
      " 2   goods_id        4364 non-null   int64  \n",
      " 3   shop_prie       4364 non-null   float64\n",
      " 4   sale_price      4364 non-null   float64\n",
      " 5   type            3876 non-null   object \n",
      "dtypes: float64(2), int64(1), object(3)\n",
      "memory usage: 153.5+ KB\n"
     ]
    }
   ],
   "source": [
    "datadf1.info()"
   ]
  },
  {
   "cell_type": "code",
   "execution_count": 14,
   "metadata": {},
   "outputs": [],
   "source": [
    "Type = datadf1['type'].values.reshape(-1,1)\n",
    "imp_mode = SimpleImputer(strategy=\"most_frequent\")\n",
    "imp_mode = imp_mode.fit_transform(Type)"
   ]
  },
  {
   "cell_type": "code",
   "execution_count": 15,
   "metadata": {},
   "outputs": [],
   "source": [
    "datadf1['type'] = imp_mode"
   ]
  },
  {
   "cell_type": "code",
   "execution_count": 16,
   "metadata": {},
   "outputs": [
    {
     "name": "stdout",
     "output_type": "stream",
     "text": [
      "<class 'pandas.core.frame.DataFrame'>\n",
      "RangeIndex: 4364 entries, 0 to 4363\n",
      "Data columns (total 6 columns):\n",
      " #   Column          Non-Null Count  Dtype  \n",
      "---  ------          --------------  -----  \n",
      " 0   category_group  4361 non-null   object \n",
      " 1   type0           4364 non-null   object \n",
      " 2   goods_id        4364 non-null   int64  \n",
      " 3   shop_prie       4364 non-null   float64\n",
      " 4   sale_price      4364 non-null   float64\n",
      " 5   type            4364 non-null   object \n",
      "dtypes: float64(2), int64(1), object(3)\n",
      "memory usage: 153.5+ KB\n"
     ]
    }
   ],
   "source": [
    "datadf1.info()"
   ]
  },
  {
   "cell_type": "code",
   "execution_count": 17,
   "metadata": {},
   "outputs": [],
   "source": [
    "datadf1.dropna(axis=0,inplace=True)\n",
    "# dropna, axis=0 表示删除所有有确实值的行，axis=1表示删除有缺失值的列\n",
    "# inplace=True表示在原有数据上进行处理，False表示复制一个对象，不对原数据进行修改"
   ]
  },
  {
   "cell_type": "code",
   "execution_count": 18,
   "metadata": {},
   "outputs": [
    {
     "name": "stdout",
     "output_type": "stream",
     "text": [
      "<class 'pandas.core.frame.DataFrame'>\n",
      "Int64Index: 4361 entries, 0 to 4363\n",
      "Data columns (total 6 columns):\n",
      " #   Column          Non-Null Count  Dtype  \n",
      "---  ------          --------------  -----  \n",
      " 0   category_group  4361 non-null   object \n",
      " 1   type0           4361 non-null   object \n",
      " 2   goods_id        4361 non-null   int64  \n",
      " 3   shop_prie       4361 non-null   float64\n",
      " 4   sale_price      4361 non-null   float64\n",
      " 5   type            4361 non-null   object \n",
      "dtypes: float64(2), int64(1), object(3)\n",
      "memory usage: 187.4+ KB\n"
     ]
    }
   ],
   "source": [
    "datadf1.info()"
   ]
  },
  {
   "cell_type": "markdown",
   "metadata": {},
   "source": [
    "## 2.3处理分类特征: 编码与哑变量\n",
    "在sklearn中大部分算法，如逻辑回归，SVM，k近邻都只能处理数值型数据。\n",
    "处理专门用来处理文字的算法，其他的算法在fit的时候要求全部输入数组或矩阵，不能导入字符串型数据\n",
    "\n",
    "但是有很多字符串类型的数据。所以要对数据进行`编码`，也就是`将文字形数据转为数值型`"
   ]
  },
  {
   "cell_type": "markdown",
   "metadata": {},
   "source": [
    "### preprocessing.LabelEncoder\n",
    "`标签专用`，能将分类转为数值"
   ]
  },
  {
   "cell_type": "code",
   "execution_count": 19,
   "metadata": {},
   "outputs": [],
   "source": [
    "from sklearn.preprocessing import LabelEncoder\n",
    "\n",
    "y = datadf1['type']  # 要输入的是标签不是矩阵，所以可以输入一维数据\n",
    "\n",
    "le = LabelEncoder()  # 实例化\n",
    "le = le.fit(y)  # 导入数据\n",
    "label = le.transform(y)  # transform调取结果"
   ]
  },
  {
   "cell_type": "code",
   "execution_count": 20,
   "metadata": {},
   "outputs": [
    {
     "data": {
      "text/plain": [
       "array(['M', 'S'], dtype=object)"
      ]
     },
     "execution_count": 20,
     "metadata": {},
     "output_type": "execute_result"
    }
   ],
   "source": [
    "le.classes_  # 查看有多少类别"
   ]
  },
  {
   "cell_type": "code",
   "execution_count": 21,
   "metadata": {},
   "outputs": [
    {
     "data": {
      "text/plain": [
       "array([0, 0, 0, ..., 0, 0, 0])"
      ]
     },
     "execution_count": 21,
     "metadata": {},
     "output_type": "execute_result"
    }
   ],
   "source": [
    "label  # 查看标签"
   ]
  },
  {
   "cell_type": "code",
   "execution_count": 22,
   "metadata": {},
   "outputs": [],
   "source": [
    "datadf1['type'] = label\n",
    "# 正常情况下可以这么写\n",
    "#from sklearn.preprocessing import LabelEncoder\n",
    "#datadf1['type'] = LabelEncoder().fit_transform(datadf1['type'])"
   ]
  },
  {
   "cell_type": "code",
   "execution_count": 23,
   "metadata": {},
   "outputs": [
    {
     "data": {
      "text/html": [
       "<div>\n",
       "<style scoped>\n",
       "    .dataframe tbody tr th:only-of-type {\n",
       "        vertical-align: middle;\n",
       "    }\n",
       "\n",
       "    .dataframe tbody tr th {\n",
       "        vertical-align: top;\n",
       "    }\n",
       "\n",
       "    .dataframe thead th {\n",
       "        text-align: right;\n",
       "    }\n",
       "</style>\n",
       "<table border=\"1\" class=\"dataframe\">\n",
       "  <thead>\n",
       "    <tr style=\"text-align: right;\">\n",
       "      <th></th>\n",
       "      <th>category_group</th>\n",
       "      <th>type0</th>\n",
       "      <th>goods_id</th>\n",
       "      <th>shop_prie</th>\n",
       "      <th>sale_price</th>\n",
       "      <th>type</th>\n",
       "    </tr>\n",
       "  </thead>\n",
       "  <tbody>\n",
       "    <tr>\n",
       "      <th>0</th>\n",
       "      <td>婴童时尚</td>\n",
       "      <td>A</td>\n",
       "      <td>5833644</td>\n",
       "      <td>14.37</td>\n",
       "      <td>12.780000</td>\n",
       "      <td>0</td>\n",
       "    </tr>\n",
       "    <tr>\n",
       "      <th>1</th>\n",
       "      <td>婴童时尚</td>\n",
       "      <td>A</td>\n",
       "      <td>5784914</td>\n",
       "      <td>83.04</td>\n",
       "      <td>49.500000</td>\n",
       "      <td>0</td>\n",
       "    </tr>\n",
       "    <tr>\n",
       "      <th>3</th>\n",
       "      <td>婴童时尚</td>\n",
       "      <td>A</td>\n",
       "      <td>5099362</td>\n",
       "      <td>13.30</td>\n",
       "      <td>10.580000</td>\n",
       "      <td>0</td>\n",
       "    </tr>\n",
       "    <tr>\n",
       "      <th>4</th>\n",
       "      <td>beauty</td>\n",
       "      <td>A</td>\n",
       "      <td>6691189</td>\n",
       "      <td>11.18</td>\n",
       "      <td>5.860000</td>\n",
       "      <td>0</td>\n",
       "    </tr>\n",
       "    <tr>\n",
       "      <th>5</th>\n",
       "      <td>孕婴童用品</td>\n",
       "      <td>A</td>\n",
       "      <td>3613842</td>\n",
       "      <td>6.12</td>\n",
       "      <td>6.120000</td>\n",
       "      <td>1</td>\n",
       "    </tr>\n",
       "    <tr>\n",
       "      <th>...</th>\n",
       "      <td>...</td>\n",
       "      <td>...</td>\n",
       "      <td>...</td>\n",
       "      <td>...</td>\n",
       "      <td>...</td>\n",
       "      <td>...</td>\n",
       "    </tr>\n",
       "    <tr>\n",
       "      <th>4359</th>\n",
       "      <td>婴童时尚</td>\n",
       "      <td>X</td>\n",
       "      <td>1710478</td>\n",
       "      <td>20.22</td>\n",
       "      <td>17.040001</td>\n",
       "      <td>0</td>\n",
       "    </tr>\n",
       "    <tr>\n",
       "      <th>4360</th>\n",
       "      <td>婴童时尚</td>\n",
       "      <td>A</td>\n",
       "      <td>7446841</td>\n",
       "      <td>16.50</td>\n",
       "      <td>12.240000</td>\n",
       "      <td>0</td>\n",
       "    </tr>\n",
       "    <tr>\n",
       "      <th>4361</th>\n",
       "      <td>beauty</td>\n",
       "      <td>A</td>\n",
       "      <td>2071832</td>\n",
       "      <td>48.93</td>\n",
       "      <td>17.900000</td>\n",
       "      <td>0</td>\n",
       "    </tr>\n",
       "    <tr>\n",
       "      <th>4362</th>\n",
       "      <td>孕婴童用品</td>\n",
       "      <td>A</td>\n",
       "      <td>3867692</td>\n",
       "      <td>28.76</td>\n",
       "      <td>9.600000</td>\n",
       "      <td>0</td>\n",
       "    </tr>\n",
       "    <tr>\n",
       "      <th>4363</th>\n",
       "      <td>婴童时尚</td>\n",
       "      <td>A</td>\n",
       "      <td>6724615</td>\n",
       "      <td>13.84</td>\n",
       "      <td>11.180000</td>\n",
       "      <td>0</td>\n",
       "    </tr>\n",
       "  </tbody>\n",
       "</table>\n",
       "<p>4361 rows × 6 columns</p>\n",
       "</div>"
      ],
      "text/plain": [
       "     category_group type0  goods_id  shop_prie  sale_price  type\n",
       "0              婴童时尚     A   5833644      14.37   12.780000     0\n",
       "1              婴童时尚     A   5784914      83.04   49.500000     0\n",
       "3              婴童时尚     A   5099362      13.30   10.580000     0\n",
       "4            beauty     A   6691189      11.18    5.860000     0\n",
       "5             孕婴童用品     A   3613842       6.12    6.120000     1\n",
       "...             ...   ...       ...        ...         ...   ...\n",
       "4359           婴童时尚     X   1710478      20.22   17.040001     0\n",
       "4360           婴童时尚     A   7446841      16.50   12.240000     0\n",
       "4361         beauty     A   2071832      48.93   17.900000     0\n",
       "4362          孕婴童用品     A   3867692      28.76    9.600000     0\n",
       "4363           婴童时尚     A   6724615      13.84   11.180000     0\n",
       "\n",
       "[4361 rows x 6 columns]"
      ]
     },
     "execution_count": 23,
     "metadata": {},
     "output_type": "execute_result"
    }
   ],
   "source": [
    "datadf1"
   ]
  },
  {
   "cell_type": "markdown",
   "metadata": {},
   "source": [
    "### preprocessing.OrdinalEncoder\n",
    "`特征专用`，接口categories_,对应LabelEncoder的classes_,其他使用方法相同"
   ]
  },
  {
   "cell_type": "code",
   "execution_count": null,
   "metadata": {},
   "outputs": [],
   "source": []
  },
  {
   "cell_type": "markdown",
   "metadata": {},
   "source": [
    "### preprocessing.OneHotEncoder\n",
    "`独热编码`，创建哑变量\n",
    "\n",
    "观察三种不同性质的分类数据\n",
    "1. 舱门(S,C,Q)\n",
    "三种取值相互独立，彼此之间完全没有联系，这是`名义变量`\n",
    "2. 学历(小学,初中,高中)\n",
    "彼此之间不是完全独立，在性质上有 高中> 初中> 小学，学历有高低，但不能彼此进行计算,这是`有序变量`\n",
    "3. 体重(>45kg, >90kg, >135kg)\n",
    "各取值有联系，并且可以进行计算， 135kg-45kg=90kg, 这是`距离变量`\n",
    "\n",
    "然而OrdinalEncoder在对特征进行编码时，这三种分类都是[0,1,2],这三个数字都是连续的并且可以计算的，也就是都算成了第三种情况\n",
    "所以就要使用哑变量进行转化\n",
    "$$S,C,Q=>[[1,0,0], [0,1,0], [0,0,1]]$$\n",
    "这样才能让算法彻底明白这三个取值没有可计算的性质，就是\"有你没我\"的概念"
   ]
  },
  {
   "cell_type": "code",
   "execution_count": 28,
   "metadata": {},
   "outputs": [
    {
     "data": {
      "text/plain": [
       "array([[0., 1., 0., 1., 0., 0.],\n",
       "       [0., 1., 0., 1., 0., 0.],\n",
       "       [0., 1., 0., 1., 0., 0.],\n",
       "       ...,\n",
       "       [1., 0., 0., 1., 0., 0.],\n",
       "       [0., 0., 1., 1., 0., 0.],\n",
       "       [0., 1., 0., 1., 0., 0.]])"
      ]
     },
     "execution_count": 28,
     "metadata": {},
     "output_type": "execute_result"
    }
   ],
   "source": [
    "from sklearn.preprocessing import OneHotEncoder  # 独热编码，创建哑变量\n",
    "\n",
    "X = datadf1.iloc[:, 0:2]\n",
    "enc = OneHotEncoder(categories=\"auto\").fit(X)\n",
    "result0 = enc.transform(X).toarray()\n",
    "result0"
   ]
  },
  {
   "cell_type": "code",
   "execution_count": 31,
   "metadata": {},
   "outputs": [],
   "source": [
    "result1 = OneHotEncoder(categories=\"auto\").fit_transform(datadf1.iloc[:, 0:2]).toarray()  # 一步完成"
   ]
  },
  {
   "cell_type": "code",
   "execution_count": 35,
   "metadata": {},
   "outputs": [],
   "source": [
    "result1_name = OneHotEncoder(categories=\"auto\").fit(datadf1.iloc[:, 0:2]).get_feature_names()  # 返回新的系数矩阵的列名"
   ]
  },
  {
   "cell_type": "code",
   "execution_count": 37,
   "metadata": {},
   "outputs": [],
   "source": [
    "newdata = pd.concat([datadf1, pd.DataFrame(data=result1, columns=result1_name)], axis=1)  # axis=1按照行扩展，axis=0按列扩展"
   ]
  },
  {
   "cell_type": "code",
   "execution_count": 39,
   "metadata": {},
   "outputs": [],
   "source": [
    "newdata.drop(['category_group', 'type0'], axis=1, inplace=True)"
   ]
  },
  {
   "cell_type": "code",
   "execution_count": 40,
   "metadata": {},
   "outputs": [
    {
     "data": {
      "text/html": [
       "<div>\n",
       "<style scoped>\n",
       "    .dataframe tbody tr th:only-of-type {\n",
       "        vertical-align: middle;\n",
       "    }\n",
       "\n",
       "    .dataframe tbody tr th {\n",
       "        vertical-align: top;\n",
       "    }\n",
       "\n",
       "    .dataframe thead th {\n",
       "        text-align: right;\n",
       "    }\n",
       "</style>\n",
       "<table border=\"1\" class=\"dataframe\">\n",
       "  <thead>\n",
       "    <tr style=\"text-align: right;\">\n",
       "      <th></th>\n",
       "      <th>goods_id</th>\n",
       "      <th>shop_prie</th>\n",
       "      <th>sale_price</th>\n",
       "      <th>type</th>\n",
       "      <th>x0_beauty</th>\n",
       "      <th>x0_婴童时尚</th>\n",
       "      <th>x0_孕婴童用品</th>\n",
       "      <th>x1_A</th>\n",
       "      <th>x1_B</th>\n",
       "      <th>x1_X</th>\n",
       "    </tr>\n",
       "  </thead>\n",
       "  <tbody>\n",
       "    <tr>\n",
       "      <th>0</th>\n",
       "      <td>5833644.0</td>\n",
       "      <td>14.37</td>\n",
       "      <td>12.780000</td>\n",
       "      <td>0.0</td>\n",
       "      <td>0.0</td>\n",
       "      <td>1.0</td>\n",
       "      <td>0.0</td>\n",
       "      <td>1.0</td>\n",
       "      <td>0.0</td>\n",
       "      <td>0.0</td>\n",
       "    </tr>\n",
       "    <tr>\n",
       "      <th>1</th>\n",
       "      <td>5784914.0</td>\n",
       "      <td>83.04</td>\n",
       "      <td>49.500000</td>\n",
       "      <td>0.0</td>\n",
       "      <td>0.0</td>\n",
       "      <td>1.0</td>\n",
       "      <td>0.0</td>\n",
       "      <td>1.0</td>\n",
       "      <td>0.0</td>\n",
       "      <td>0.0</td>\n",
       "    </tr>\n",
       "    <tr>\n",
       "      <th>2</th>\n",
       "      <td>NaN</td>\n",
       "      <td>NaN</td>\n",
       "      <td>NaN</td>\n",
       "      <td>NaN</td>\n",
       "      <td>0.0</td>\n",
       "      <td>1.0</td>\n",
       "      <td>0.0</td>\n",
       "      <td>1.0</td>\n",
       "      <td>0.0</td>\n",
       "      <td>0.0</td>\n",
       "    </tr>\n",
       "    <tr>\n",
       "      <th>3</th>\n",
       "      <td>5099362.0</td>\n",
       "      <td>13.30</td>\n",
       "      <td>10.580000</td>\n",
       "      <td>0.0</td>\n",
       "      <td>1.0</td>\n",
       "      <td>0.0</td>\n",
       "      <td>0.0</td>\n",
       "      <td>1.0</td>\n",
       "      <td>0.0</td>\n",
       "      <td>0.0</td>\n",
       "    </tr>\n",
       "    <tr>\n",
       "      <th>4</th>\n",
       "      <td>6691189.0</td>\n",
       "      <td>11.18</td>\n",
       "      <td>5.860000</td>\n",
       "      <td>0.0</td>\n",
       "      <td>0.0</td>\n",
       "      <td>0.0</td>\n",
       "      <td>1.0</td>\n",
       "      <td>1.0</td>\n",
       "      <td>0.0</td>\n",
       "      <td>0.0</td>\n",
       "    </tr>\n",
       "    <tr>\n",
       "      <th>...</th>\n",
       "      <td>...</td>\n",
       "      <td>...</td>\n",
       "      <td>...</td>\n",
       "      <td>...</td>\n",
       "      <td>...</td>\n",
       "      <td>...</td>\n",
       "      <td>...</td>\n",
       "      <td>...</td>\n",
       "      <td>...</td>\n",
       "      <td>...</td>\n",
       "    </tr>\n",
       "    <tr>\n",
       "      <th>4359</th>\n",
       "      <td>1710478.0</td>\n",
       "      <td>20.22</td>\n",
       "      <td>17.040001</td>\n",
       "      <td>0.0</td>\n",
       "      <td>0.0</td>\n",
       "      <td>0.0</td>\n",
       "      <td>1.0</td>\n",
       "      <td>1.0</td>\n",
       "      <td>0.0</td>\n",
       "      <td>0.0</td>\n",
       "    </tr>\n",
       "    <tr>\n",
       "      <th>4360</th>\n",
       "      <td>7446841.0</td>\n",
       "      <td>16.50</td>\n",
       "      <td>12.240000</td>\n",
       "      <td>0.0</td>\n",
       "      <td>0.0</td>\n",
       "      <td>1.0</td>\n",
       "      <td>0.0</td>\n",
       "      <td>1.0</td>\n",
       "      <td>0.0</td>\n",
       "      <td>0.0</td>\n",
       "    </tr>\n",
       "    <tr>\n",
       "      <th>4361</th>\n",
       "      <td>2071832.0</td>\n",
       "      <td>48.93</td>\n",
       "      <td>17.900000</td>\n",
       "      <td>0.0</td>\n",
       "      <td>NaN</td>\n",
       "      <td>NaN</td>\n",
       "      <td>NaN</td>\n",
       "      <td>NaN</td>\n",
       "      <td>NaN</td>\n",
       "      <td>NaN</td>\n",
       "    </tr>\n",
       "    <tr>\n",
       "      <th>4362</th>\n",
       "      <td>3867692.0</td>\n",
       "      <td>28.76</td>\n",
       "      <td>9.600000</td>\n",
       "      <td>0.0</td>\n",
       "      <td>NaN</td>\n",
       "      <td>NaN</td>\n",
       "      <td>NaN</td>\n",
       "      <td>NaN</td>\n",
       "      <td>NaN</td>\n",
       "      <td>NaN</td>\n",
       "    </tr>\n",
       "    <tr>\n",
       "      <th>4363</th>\n",
       "      <td>6724615.0</td>\n",
       "      <td>13.84</td>\n",
       "      <td>11.180000</td>\n",
       "      <td>0.0</td>\n",
       "      <td>NaN</td>\n",
       "      <td>NaN</td>\n",
       "      <td>NaN</td>\n",
       "      <td>NaN</td>\n",
       "      <td>NaN</td>\n",
       "      <td>NaN</td>\n",
       "    </tr>\n",
       "  </tbody>\n",
       "</table>\n",
       "<p>4364 rows × 10 columns</p>\n",
       "</div>"
      ],
      "text/plain": [
       "       goods_id  shop_prie  sale_price  type  x0_beauty  x0_婴童时尚  x0_孕婴童用品  \\\n",
       "0     5833644.0      14.37   12.780000   0.0        0.0      1.0       0.0   \n",
       "1     5784914.0      83.04   49.500000   0.0        0.0      1.0       0.0   \n",
       "2           NaN        NaN         NaN   NaN        0.0      1.0       0.0   \n",
       "3     5099362.0      13.30   10.580000   0.0        1.0      0.0       0.0   \n",
       "4     6691189.0      11.18    5.860000   0.0        0.0      0.0       1.0   \n",
       "...         ...        ...         ...   ...        ...      ...       ...   \n",
       "4359  1710478.0      20.22   17.040001   0.0        0.0      0.0       1.0   \n",
       "4360  7446841.0      16.50   12.240000   0.0        0.0      1.0       0.0   \n",
       "4361  2071832.0      48.93   17.900000   0.0        NaN      NaN       NaN   \n",
       "4362  3867692.0      28.76    9.600000   0.0        NaN      NaN       NaN   \n",
       "4363  6724615.0      13.84   11.180000   0.0        NaN      NaN       NaN   \n",
       "\n",
       "      x1_A  x1_B  x1_X  \n",
       "0      1.0   0.0   0.0  \n",
       "1      1.0   0.0   0.0  \n",
       "2      1.0   0.0   0.0  \n",
       "3      1.0   0.0   0.0  \n",
       "4      1.0   0.0   0.0  \n",
       "...    ...   ...   ...  \n",
       "4359   1.0   0.0   0.0  \n",
       "4360   1.0   0.0   0.0  \n",
       "4361   NaN   NaN   NaN  \n",
       "4362   NaN   NaN   NaN  \n",
       "4363   NaN   NaN   NaN  \n",
       "\n",
       "[4364 rows x 10 columns]"
      ]
     },
     "execution_count": 40,
     "metadata": {},
     "output_type": "execute_result"
    }
   ],
   "source": [
    "newdata"
   ]
  },
  {
   "cell_type": "markdown",
   "metadata": {},
   "source": [
    "## 2.4连续型特征：二值化和分段处理\n",
    "### sklearn.preprocessing.Binarizer\n",
    "根据阈值将数据二分化，用于处理连续型变量，大于阈值为1，小于阈值为0。一般对文本数据常见处理"
   ]
  },
  {
   "cell_type": "code",
   "execution_count": 43,
   "metadata": {},
   "outputs": [],
   "source": [
    "datadf2 = datadf1"
   ]
  },
  {
   "cell_type": "code",
   "execution_count": 44,
   "metadata": {},
   "outputs": [],
   "source": [
    "from sklearn.preprocessing import Binarizer"
   ]
  },
  {
   "cell_type": "code",
   "execution_count": 45,
   "metadata": {},
   "outputs": [
    {
     "data": {
      "text/html": [
       "<div>\n",
       "<style scoped>\n",
       "    .dataframe tbody tr th:only-of-type {\n",
       "        vertical-align: middle;\n",
       "    }\n",
       "\n",
       "    .dataframe tbody tr th {\n",
       "        vertical-align: top;\n",
       "    }\n",
       "\n",
       "    .dataframe thead th {\n",
       "        text-align: right;\n",
       "    }\n",
       "</style>\n",
       "<table border=\"1\" class=\"dataframe\">\n",
       "  <thead>\n",
       "    <tr style=\"text-align: right;\">\n",
       "      <th></th>\n",
       "      <th>category_group</th>\n",
       "      <th>type0</th>\n",
       "      <th>goods_id</th>\n",
       "      <th>shop_prie</th>\n",
       "      <th>sale_price</th>\n",
       "      <th>type</th>\n",
       "    </tr>\n",
       "  </thead>\n",
       "  <tbody>\n",
       "    <tr>\n",
       "      <th>0</th>\n",
       "      <td>婴童时尚</td>\n",
       "      <td>A</td>\n",
       "      <td>5833644</td>\n",
       "      <td>14.37</td>\n",
       "      <td>12.78</td>\n",
       "      <td>0</td>\n",
       "    </tr>\n",
       "    <tr>\n",
       "      <th>1</th>\n",
       "      <td>婴童时尚</td>\n",
       "      <td>A</td>\n",
       "      <td>5784914</td>\n",
       "      <td>83.04</td>\n",
       "      <td>49.50</td>\n",
       "      <td>0</td>\n",
       "    </tr>\n",
       "    <tr>\n",
       "      <th>3</th>\n",
       "      <td>婴童时尚</td>\n",
       "      <td>A</td>\n",
       "      <td>5099362</td>\n",
       "      <td>13.30</td>\n",
       "      <td>10.58</td>\n",
       "      <td>0</td>\n",
       "    </tr>\n",
       "    <tr>\n",
       "      <th>4</th>\n",
       "      <td>beauty</td>\n",
       "      <td>A</td>\n",
       "      <td>6691189</td>\n",
       "      <td>11.18</td>\n",
       "      <td>5.86</td>\n",
       "      <td>0</td>\n",
       "    </tr>\n",
       "    <tr>\n",
       "      <th>5</th>\n",
       "      <td>孕婴童用品</td>\n",
       "      <td>A</td>\n",
       "      <td>3613842</td>\n",
       "      <td>6.12</td>\n",
       "      <td>6.12</td>\n",
       "      <td>1</td>\n",
       "    </tr>\n",
       "  </tbody>\n",
       "</table>\n",
       "</div>"
      ],
      "text/plain": [
       "  category_group type0  goods_id  shop_prie  sale_price  type\n",
       "0           婴童时尚     A   5833644      14.37       12.78     0\n",
       "1           婴童时尚     A   5784914      83.04       49.50     0\n",
       "3           婴童时尚     A   5099362      13.30       10.58     0\n",
       "4         beauty     A   6691189      11.18        5.86     0\n",
       "5          孕婴童用品     A   3613842       6.12        6.12     1"
      ]
     },
     "execution_count": 45,
     "metadata": {},
     "output_type": "execute_result"
    }
   ],
   "source": [
    "datadf2.head()"
   ]
  },
  {
   "cell_type": "code",
   "execution_count": 51,
   "metadata": {},
   "outputs": [],
   "source": [
    "X = datadf2['sale_price'].values.reshape(-1,1)\n",
    "transformer = Binarizer(threshold=20).fit_transform(X)\n",
    "datadf2['sale_price'] = transformer"
   ]
  },
  {
   "cell_type": "code",
   "execution_count": 53,
   "metadata": {},
   "outputs": [
    {
     "data": {
      "text/html": [
       "<div>\n",
       "<style scoped>\n",
       "    .dataframe tbody tr th:only-of-type {\n",
       "        vertical-align: middle;\n",
       "    }\n",
       "\n",
       "    .dataframe tbody tr th {\n",
       "        vertical-align: top;\n",
       "    }\n",
       "\n",
       "    .dataframe thead th {\n",
       "        text-align: right;\n",
       "    }\n",
       "</style>\n",
       "<table border=\"1\" class=\"dataframe\">\n",
       "  <thead>\n",
       "    <tr style=\"text-align: right;\">\n",
       "      <th></th>\n",
       "      <th>category_group</th>\n",
       "      <th>type0</th>\n",
       "      <th>goods_id</th>\n",
       "      <th>shop_prie</th>\n",
       "      <th>sale_price</th>\n",
       "      <th>type</th>\n",
       "    </tr>\n",
       "  </thead>\n",
       "  <tbody>\n",
       "    <tr>\n",
       "      <th>0</th>\n",
       "      <td>婴童时尚</td>\n",
       "      <td>A</td>\n",
       "      <td>5833644</td>\n",
       "      <td>14.37</td>\n",
       "      <td>0.0</td>\n",
       "      <td>0</td>\n",
       "    </tr>\n",
       "    <tr>\n",
       "      <th>1</th>\n",
       "      <td>婴童时尚</td>\n",
       "      <td>A</td>\n",
       "      <td>5784914</td>\n",
       "      <td>83.04</td>\n",
       "      <td>1.0</td>\n",
       "      <td>0</td>\n",
       "    </tr>\n",
       "    <tr>\n",
       "      <th>3</th>\n",
       "      <td>婴童时尚</td>\n",
       "      <td>A</td>\n",
       "      <td>5099362</td>\n",
       "      <td>13.30</td>\n",
       "      <td>0.0</td>\n",
       "      <td>0</td>\n",
       "    </tr>\n",
       "    <tr>\n",
       "      <th>4</th>\n",
       "      <td>beauty</td>\n",
       "      <td>A</td>\n",
       "      <td>6691189</td>\n",
       "      <td>11.18</td>\n",
       "      <td>0.0</td>\n",
       "      <td>0</td>\n",
       "    </tr>\n",
       "    <tr>\n",
       "      <th>5</th>\n",
       "      <td>孕婴童用品</td>\n",
       "      <td>A</td>\n",
       "      <td>3613842</td>\n",
       "      <td>6.12</td>\n",
       "      <td>0.0</td>\n",
       "      <td>1</td>\n",
       "    </tr>\n",
       "  </tbody>\n",
       "</table>\n",
       "</div>"
      ],
      "text/plain": [
       "  category_group type0  goods_id  shop_prie  sale_price  type\n",
       "0           婴童时尚     A   5833644      14.37         0.0     0\n",
       "1           婴童时尚     A   5784914      83.04         1.0     0\n",
       "3           婴童时尚     A   5099362      13.30         0.0     0\n",
       "4         beauty     A   6691189      11.18         0.0     0\n",
       "5          孕婴童用品     A   3613842       6.12         0.0     1"
      ]
     },
     "execution_count": 53,
     "metadata": {},
     "output_type": "execute_result"
    }
   ],
   "source": [
    "datadf2.head()"
   ]
  },
  {
   "cell_type": "markdown",
   "metadata": {},
   "source": [
    "### preprocessing.KBinsDiscretizer\n",
    "分箱编码\n",
    "\n",
    "* n_bins 每个特征中的分箱个数，默认为5一次会被运用到所有特征中\n",
    "* encode 编码方式，默认为\"onehot\"\n",
    "    * onehot 做哑变量，之后返回一个系数矩阵，每一列是特征中的一个类别\n",
    "    * ordinal 每个特征中的每个箱都被编码为一个整数，返回每一列是一个特征，每个特征含下含有不同整数编码的箱的矩阵\n",
    "    * onehot-dense 做哑变量，之后返回一个密集矩阵\n",
    "* strategy 用来定义箱宽的方式，默认\"quantile\"\n",
    "    * uniform 表示等宽分箱，每个特征中的每个箱的最大值之差为$(特征.max()-特征.min())/(n\\_bins)$\n",
    "    * quantile 表示等位分箱，每个箱中的样本数相同\n",
    "    * kmeans 表示聚类分箱，每个箱中的值到最近的一维k均值聚类的簇心的距离相同"
   ]
  },
  {
   "cell_type": "code",
   "execution_count": 54,
   "metadata": {},
   "outputs": [],
   "source": [
    "from sklearn.preprocessing import KBinsDiscretizer"
   ]
  },
  {
   "cell_type": "code",
   "execution_count": 56,
   "metadata": {},
   "outputs": [
    {
     "data": {
      "text/html": [
       "<div>\n",
       "<style scoped>\n",
       "    .dataframe tbody tr th:only-of-type {\n",
       "        vertical-align: middle;\n",
       "    }\n",
       "\n",
       "    .dataframe tbody tr th {\n",
       "        vertical-align: top;\n",
       "    }\n",
       "\n",
       "    .dataframe thead th {\n",
       "        text-align: right;\n",
       "    }\n",
       "</style>\n",
       "<table border=\"1\" class=\"dataframe\">\n",
       "  <thead>\n",
       "    <tr style=\"text-align: right;\">\n",
       "      <th></th>\n",
       "      <th>category_group</th>\n",
       "      <th>type0</th>\n",
       "      <th>goods_id</th>\n",
       "      <th>shop_prie</th>\n",
       "      <th>sale_price</th>\n",
       "      <th>type</th>\n",
       "    </tr>\n",
       "  </thead>\n",
       "  <tbody>\n",
       "    <tr>\n",
       "      <th>0</th>\n",
       "      <td>婴童时尚</td>\n",
       "      <td>A</td>\n",
       "      <td>5833644</td>\n",
       "      <td>14.37</td>\n",
       "      <td>0.0</td>\n",
       "      <td>0</td>\n",
       "    </tr>\n",
       "    <tr>\n",
       "      <th>1</th>\n",
       "      <td>婴童时尚</td>\n",
       "      <td>A</td>\n",
       "      <td>5784914</td>\n",
       "      <td>83.04</td>\n",
       "      <td>1.0</td>\n",
       "      <td>0</td>\n",
       "    </tr>\n",
       "    <tr>\n",
       "      <th>3</th>\n",
       "      <td>婴童时尚</td>\n",
       "      <td>A</td>\n",
       "      <td>5099362</td>\n",
       "      <td>13.30</td>\n",
       "      <td>0.0</td>\n",
       "      <td>0</td>\n",
       "    </tr>\n",
       "    <tr>\n",
       "      <th>4</th>\n",
       "      <td>beauty</td>\n",
       "      <td>A</td>\n",
       "      <td>6691189</td>\n",
       "      <td>11.18</td>\n",
       "      <td>0.0</td>\n",
       "      <td>0</td>\n",
       "    </tr>\n",
       "    <tr>\n",
       "      <th>5</th>\n",
       "      <td>孕婴童用品</td>\n",
       "      <td>A</td>\n",
       "      <td>3613842</td>\n",
       "      <td>6.12</td>\n",
       "      <td>0.0</td>\n",
       "      <td>1</td>\n",
       "    </tr>\n",
       "  </tbody>\n",
       "</table>\n",
       "</div>"
      ],
      "text/plain": [
       "  category_group type0  goods_id  shop_prie  sale_price  type\n",
       "0           婴童时尚     A   5833644      14.37         0.0     0\n",
       "1           婴童时尚     A   5784914      83.04         1.0     0\n",
       "3           婴童时尚     A   5099362      13.30         0.0     0\n",
       "4         beauty     A   6691189      11.18         0.0     0\n",
       "5          孕婴童用品     A   3613842       6.12         0.0     1"
      ]
     },
     "execution_count": 56,
     "metadata": {},
     "output_type": "execute_result"
    }
   ],
   "source": [
    "datadf1.head()"
   ]
  },
  {
   "cell_type": "code",
   "execution_count": 57,
   "metadata": {},
   "outputs": [],
   "source": [
    "X = datadf1['shop_prie'].values.reshape(-1,1)"
   ]
  },
  {
   "cell_type": "code",
   "execution_count": 66,
   "metadata": {},
   "outputs": [
    {
     "data": {
      "text/plain": [
       "array([[0.],\n",
       "       [0.],\n",
       "       [0.],\n",
       "       ...,\n",
       "       [0.],\n",
       "       [0.],\n",
       "       [0.]])"
      ]
     },
     "execution_count": 66,
     "metadata": {},
     "output_type": "execute_result"
    }
   ],
   "source": [
    "est = KBinsDiscretizer(n_bins=3, encode='ordinal', strategy='uniform')\n",
    "est.fit_transform(X)"
   ]
  },
  {
   "cell_type": "code",
   "execution_count": 64,
   "metadata": {},
   "outputs": [
    {
     "data": {
      "text/plain": [
       "{0.0, 1.0, 2.0}"
      ]
     },
     "execution_count": 64,
     "metadata": {},
     "output_type": "execute_result"
    }
   ],
   "source": [
    "set(est.fit_transform(X).ravel())"
   ]
  },
  {
   "cell_type": "markdown",
   "metadata": {},
   "source": [
    "# 3.0特征选择 feature_selection\n",
    "特征工程主要包括三类\n",
    "* 特征提取，从文字，声音，图像等提取信息\n",
    "* 特征创造，把现有特征进行组合，相互计算得到新的特征\n",
    "* 特征选择，从所有特征中选择有意义的，对模型有帮助的得知"
   ]
  },
  {
   "cell_type": "code",
   "execution_count": 1,
   "metadata": {},
   "outputs": [],
   "source": [
    "import pandas as pd"
   ]
  },
  {
   "cell_type": "code",
   "execution_count": 2,
   "metadata": {},
   "outputs": [],
   "source": [
    "datadf = pd.read_csv(r'D:\\data\\learn\\digit recognizor\\train.csv\\train.csv')"
   ]
  },
  {
   "cell_type": "code",
   "execution_count": 3,
   "metadata": {},
   "outputs": [
    {
     "data": {
      "text/html": [
       "<div>\n",
       "<style scoped>\n",
       "    .dataframe tbody tr th:only-of-type {\n",
       "        vertical-align: middle;\n",
       "    }\n",
       "\n",
       "    .dataframe tbody tr th {\n",
       "        vertical-align: top;\n",
       "    }\n",
       "\n",
       "    .dataframe thead th {\n",
       "        text-align: right;\n",
       "    }\n",
       "</style>\n",
       "<table border=\"1\" class=\"dataframe\">\n",
       "  <thead>\n",
       "    <tr style=\"text-align: right;\">\n",
       "      <th></th>\n",
       "      <th>label</th>\n",
       "      <th>pixel0</th>\n",
       "      <th>pixel1</th>\n",
       "      <th>pixel2</th>\n",
       "      <th>pixel3</th>\n",
       "      <th>pixel4</th>\n",
       "      <th>pixel5</th>\n",
       "      <th>pixel6</th>\n",
       "      <th>pixel7</th>\n",
       "      <th>pixel8</th>\n",
       "      <th>...</th>\n",
       "      <th>pixel774</th>\n",
       "      <th>pixel775</th>\n",
       "      <th>pixel776</th>\n",
       "      <th>pixel777</th>\n",
       "      <th>pixel778</th>\n",
       "      <th>pixel779</th>\n",
       "      <th>pixel780</th>\n",
       "      <th>pixel781</th>\n",
       "      <th>pixel782</th>\n",
       "      <th>pixel783</th>\n",
       "    </tr>\n",
       "  </thead>\n",
       "  <tbody>\n",
       "    <tr>\n",
       "      <th>0</th>\n",
       "      <td>1</td>\n",
       "      <td>0</td>\n",
       "      <td>0</td>\n",
       "      <td>0</td>\n",
       "      <td>0</td>\n",
       "      <td>0</td>\n",
       "      <td>0</td>\n",
       "      <td>0</td>\n",
       "      <td>0</td>\n",
       "      <td>0</td>\n",
       "      <td>...</td>\n",
       "      <td>0</td>\n",
       "      <td>0</td>\n",
       "      <td>0</td>\n",
       "      <td>0</td>\n",
       "      <td>0</td>\n",
       "      <td>0</td>\n",
       "      <td>0</td>\n",
       "      <td>0</td>\n",
       "      <td>0</td>\n",
       "      <td>0</td>\n",
       "    </tr>\n",
       "    <tr>\n",
       "      <th>1</th>\n",
       "      <td>0</td>\n",
       "      <td>0</td>\n",
       "      <td>0</td>\n",
       "      <td>0</td>\n",
       "      <td>0</td>\n",
       "      <td>0</td>\n",
       "      <td>0</td>\n",
       "      <td>0</td>\n",
       "      <td>0</td>\n",
       "      <td>0</td>\n",
       "      <td>...</td>\n",
       "      <td>0</td>\n",
       "      <td>0</td>\n",
       "      <td>0</td>\n",
       "      <td>0</td>\n",
       "      <td>0</td>\n",
       "      <td>0</td>\n",
       "      <td>0</td>\n",
       "      <td>0</td>\n",
       "      <td>0</td>\n",
       "      <td>0</td>\n",
       "    </tr>\n",
       "    <tr>\n",
       "      <th>2</th>\n",
       "      <td>1</td>\n",
       "      <td>0</td>\n",
       "      <td>0</td>\n",
       "      <td>0</td>\n",
       "      <td>0</td>\n",
       "      <td>0</td>\n",
       "      <td>0</td>\n",
       "      <td>0</td>\n",
       "      <td>0</td>\n",
       "      <td>0</td>\n",
       "      <td>...</td>\n",
       "      <td>0</td>\n",
       "      <td>0</td>\n",
       "      <td>0</td>\n",
       "      <td>0</td>\n",
       "      <td>0</td>\n",
       "      <td>0</td>\n",
       "      <td>0</td>\n",
       "      <td>0</td>\n",
       "      <td>0</td>\n",
       "      <td>0</td>\n",
       "    </tr>\n",
       "    <tr>\n",
       "      <th>3</th>\n",
       "      <td>4</td>\n",
       "      <td>0</td>\n",
       "      <td>0</td>\n",
       "      <td>0</td>\n",
       "      <td>0</td>\n",
       "      <td>0</td>\n",
       "      <td>0</td>\n",
       "      <td>0</td>\n",
       "      <td>0</td>\n",
       "      <td>0</td>\n",
       "      <td>...</td>\n",
       "      <td>0</td>\n",
       "      <td>0</td>\n",
       "      <td>0</td>\n",
       "      <td>0</td>\n",
       "      <td>0</td>\n",
       "      <td>0</td>\n",
       "      <td>0</td>\n",
       "      <td>0</td>\n",
       "      <td>0</td>\n",
       "      <td>0</td>\n",
       "    </tr>\n",
       "    <tr>\n",
       "      <th>4</th>\n",
       "      <td>0</td>\n",
       "      <td>0</td>\n",
       "      <td>0</td>\n",
       "      <td>0</td>\n",
       "      <td>0</td>\n",
       "      <td>0</td>\n",
       "      <td>0</td>\n",
       "      <td>0</td>\n",
       "      <td>0</td>\n",
       "      <td>0</td>\n",
       "      <td>...</td>\n",
       "      <td>0</td>\n",
       "      <td>0</td>\n",
       "      <td>0</td>\n",
       "      <td>0</td>\n",
       "      <td>0</td>\n",
       "      <td>0</td>\n",
       "      <td>0</td>\n",
       "      <td>0</td>\n",
       "      <td>0</td>\n",
       "      <td>0</td>\n",
       "    </tr>\n",
       "  </tbody>\n",
       "</table>\n",
       "<p>5 rows × 785 columns</p>\n",
       "</div>"
      ],
      "text/plain": [
       "   label  pixel0  pixel1  pixel2  pixel3  pixel4  pixel5  pixel6  pixel7  \\\n",
       "0      1       0       0       0       0       0       0       0       0   \n",
       "1      0       0       0       0       0       0       0       0       0   \n",
       "2      1       0       0       0       0       0       0       0       0   \n",
       "3      4       0       0       0       0       0       0       0       0   \n",
       "4      0       0       0       0       0       0       0       0       0   \n",
       "\n",
       "   pixel8  ...  pixel774  pixel775  pixel776  pixel777  pixel778  pixel779  \\\n",
       "0       0  ...         0         0         0         0         0         0   \n",
       "1       0  ...         0         0         0         0         0         0   \n",
       "2       0  ...         0         0         0         0         0         0   \n",
       "3       0  ...         0         0         0         0         0         0   \n",
       "4       0  ...         0         0         0         0         0         0   \n",
       "\n",
       "   pixel780  pixel781  pixel782  pixel783  \n",
       "0         0         0         0         0  \n",
       "1         0         0         0         0  \n",
       "2         0         0         0         0  \n",
       "3         0         0         0         0  \n",
       "4         0         0         0         0  \n",
       "\n",
       "[5 rows x 785 columns]"
      ]
     },
     "execution_count": 3,
     "metadata": {},
     "output_type": "execute_result"
    }
   ],
   "source": [
    "datadf.head()"
   ]
  },
  {
   "cell_type": "code",
   "execution_count": 4,
   "metadata": {},
   "outputs": [],
   "source": [
    "X = datadf.iloc[:, 1:]\n",
    "y = datadf.iloc[:, 0]"
   ]
  },
  {
   "cell_type": "code",
   "execution_count": 5,
   "metadata": {},
   "outputs": [
    {
     "data": {
      "text/plain": [
       "(42000, 784)"
      ]
     },
     "execution_count": 5,
     "metadata": {},
     "output_type": "execute_result"
    }
   ],
   "source": [
    "X.shape"
   ]
  },
  {
   "cell_type": "markdown",
   "metadata": {},
   "source": [
    "在这个案例中，数据只有42000行，但是维度有784个维度，所以需要进行特征选择"
   ]
  },
  {
   "cell_type": "markdown",
   "metadata": {},
   "source": [
    "## 3.1 Filter过滤法\n",
    "过滤法常作为数据预处理步骤，特征选择完全独立于任何算法，它根据各种统计检验的分数以及相关性指标进行选择的\n",
    "$$全部特征->最佳特征子集->算法->模型评估$$\n",
    "\n",
    "### 3.1.1 方差过滤VarianceThreshold\n",
    "通过特征本身的方差来进行筛选，比如一个特征方差很小，就表示这个特征基本没有什么变化，可能特征中大多数值都一样，甚至相同。那这个特征对区分样本没有任何帮助，\n",
    "**接下来无论特征工程要做什么，都要有限消除方差为0的特征**。VarianceThreshold的参数`threshold`设置方差阈值，舍弃所有方法小于阈值的特征，默认阈值为0"
   ]
  },
  {
   "cell_type": "code",
   "execution_count": 6,
   "metadata": {},
   "outputs": [],
   "source": [
    "from sklearn.feature_selection import VarianceThreshold"
   ]
  },
  {
   "cell_type": "code",
   "execution_count": 7,
   "metadata": {},
   "outputs": [],
   "source": [
    "selector = VarianceThreshold()\n",
    "X_var0 = selector.fit_transform(X)"
   ]
  },
  {
   "cell_type": "code",
   "execution_count": 8,
   "metadata": {},
   "outputs": [
    {
     "data": {
      "text/plain": [
       "(42000, 708)"
      ]
     },
     "execution_count": 8,
     "metadata": {},
     "output_type": "execute_result"
    }
   ],
   "source": [
    "X_var0.shape"
   ]
  },
  {
   "cell_type": "code",
   "execution_count": 9,
   "metadata": {},
   "outputs": [],
   "source": [
    "import numpy as np"
   ]
  },
  {
   "cell_type": "code",
   "execution_count": 10,
   "metadata": {},
   "outputs": [
    {
     "data": {
      "text/plain": [
       "pixel0      0.000000\n",
       "pixel1      0.000000\n",
       "pixel2      0.000000\n",
       "pixel3      0.000000\n",
       "pixel4      0.000000\n",
       "              ...   \n",
       "pixel779    0.171615\n",
       "pixel780    0.000000\n",
       "pixel781    0.000000\n",
       "pixel782    0.000000\n",
       "pixel783    0.000000\n",
       "Length: 784, dtype: float64"
      ]
     },
     "execution_count": 10,
     "metadata": {},
     "output_type": "execute_result"
    }
   ],
   "source": [
    "X.var()  # 读取每一列方差"
   ]
  },
  {
   "cell_type": "code",
   "execution_count": 11,
   "metadata": {},
   "outputs": [
    {
     "data": {
      "text/plain": [
       "1352.2867031797243"
      ]
     },
     "execution_count": 11,
     "metadata": {},
     "output_type": "execute_result"
    }
   ],
   "source": [
    "np.median(X.var().values)  # 计算所有方差的中位数"
   ]
  },
  {
   "cell_type": "code",
   "execution_count": 12,
   "metadata": {},
   "outputs": [],
   "source": [
    "x_fsva = VarianceThreshold(threshold=np.median(X.var().values)).fit_transform(X)  # 将方差设置为阈值，直接干掉一半的特征。但是要知道只需要一般的特征"
   ]
  },
  {
   "cell_type": "code",
   "execution_count": 13,
   "metadata": {},
   "outputs": [
    {
     "data": {
      "text/plain": [
       "(42000, 392)"
      ]
     },
     "execution_count": 13,
     "metadata": {},
     "output_type": "execute_result"
    }
   ],
   "source": [
    "x_fsva.shape"
   ]
  },
  {
   "cell_type": "markdown",
   "metadata": {},
   "source": [
    "当特征是二分类变量时，特征取值就是伯努利随机变量，这些变量的方差可以计算为:\n",
    "$$Var[x]=p(1-p)$$"
   ]
  },
  {
   "cell_type": "code",
   "execution_count": 14,
   "metadata": {},
   "outputs": [],
   "source": [
    "# 如果变量时伯努利随机变量，假设p=0.8，即二分类特征中某种分类站到80%以上的时候就删除该特征\n",
    "x_bsva = VarianceThreshold(threshold=0.8*(1-0.8)).fit_transform(X)"
   ]
  },
  {
   "cell_type": "code",
   "execution_count": 15,
   "metadata": {},
   "outputs": [
    {
     "data": {
      "text/plain": [
       "(42000, 685)"
      ]
     },
     "execution_count": 15,
     "metadata": {},
     "output_type": "execute_result"
    }
   ],
   "source": [
    "x_bsva.shape"
   ]
  },
  {
   "cell_type": "markdown",
   "metadata": {},
   "source": [
    "#### 3.1.1.1 方差过滤(VarianceThreshold)对模型的影响\n",
    "从模型的判定效果和运行效果评价\n",
    "方差过滤对需要升维，遍历数据的算法有明显优化，如KNN、决策树\n",
    "方差过滤的主要目的是**在维持算法表现的前提下，降低计算成本**\n",
    "\n",
    "* 算法表现\n",
    "    * 阈值小，没有太大影响\n",
    "    * 阈值大，可能变好，说明过滤掉的特征恰好对结果没有贡献；也可能变化\n",
    "* 运行时间\n",
    "    * 阈值小，可能有好的表现，取决于方差晓得特征有多少\n",
    "    * 阈值大，一定会变快，因为降低了数据量\n",
    "\n",
    "> 通常只会用方差过滤筛选掉明显用不到的数据，也就是通常设置阈值为0或方差很小的阈值，然后更换其他更优的特征选择方法"
   ]
  },
  {
   "cell_type": "markdown",
   "metadata": {},
   "source": [
    "### 3.1.2 相关性过滤\n",
    "选择特征是希望挑选与标签相关并且有意义的数据，这样的特征能提供大量信息。如果与标签无关只会大量消耗内存，可能还会造成噪音\n",
    "在sklearn中相关性过滤提供了: `卡方`,`F检验`,`互信息`\n",
    "\n",
    "#### 3.1.2.1 卡方过滤\n",
    "`卡方过滤是专门针对离散标签(即分类问题)`的相关过滤。\n",
    "卡方检测`feature_selection.chi2`计算每个**非负特征**和标签之间的卡方统计量，并按照卡方统计量由高到低排序，\n",
    "在结合`feature_selection.SelectKBest`这个可以输入\"评分标准\"来选出前k个分数最高的特征的类，借此剔除可能独立于标签，与分类无关的特征\n",
    "\n",
    "另外，如果卡方检验检测到某个特征所有值都相同，会提示先用方差检测过滤。**非负特征**,说明如果特征有负数，需要进行预处理，进行归一化，转化到[0,1]之间"
   ]
  },
  {
   "cell_type": "code",
   "execution_count": 16,
   "metadata": {},
   "outputs": [],
   "source": [
    "from sklearn.ensemble import RandomForestClassifier as RFC  # 随机森林\n",
    "from sklearn.model_selection import cross_val_score  # 交叉验证\n",
    "from sklearn.feature_selection import chi2  # 卡方检测\n",
    "from sklearn.feature_selection import SelectKBest  # 选取特征"
   ]
  },
  {
   "cell_type": "code",
   "execution_count": 17,
   "metadata": {},
   "outputs": [],
   "source": [
    "# SelectKBest(依赖的统计量, k=评分前k的特征).fit_transform(特征, 标签)\n",
    "x_fschi = SelectKBest(chi2, k=300).fit_transform(x_fsva, y)"
   ]
  },
  {
   "cell_type": "code",
   "execution_count": 18,
   "metadata": {},
   "outputs": [
    {
     "data": {
      "text/plain": [
       "(42000, 300)"
      ]
     },
     "execution_count": 18,
     "metadata": {},
     "output_type": "execute_result"
    }
   ],
   "source": [
    "x_fschi.shape"
   ]
  },
  {
   "cell_type": "code",
   "execution_count": 19,
   "metadata": {},
   "outputs": [
    {
     "data": {
      "text/plain": [
       "0.9344761904761905"
      ]
     },
     "execution_count": 19,
     "metadata": {},
     "output_type": "execute_result"
    }
   ],
   "source": [
    "# 验证效果\n",
    "cross_val_score(RFC(n_estimators=10, random_state=0), x_fschi, y, cv=5).mean()"
   ]
  },
  {
   "cell_type": "markdown",
   "metadata": {},
   "source": [
    "如果验证效果过小，说明k=300过滤掉了部分有效特征，这时或者提高k值，或者放弃卡方过滤"
   ]
  },
  {
   "cell_type": "code",
   "execution_count": 20,
   "metadata": {},
   "outputs": [
    {
     "data": {
      "image/png": "[encoded data removed]",
      "text/plain": [
       "<Figure size 432x288 with 1 Axes>"
      ]
     },
     "metadata": {
      "needs_background": "light"
     },
     "output_type": "display_data"
    }
   ],
   "source": [
    "# 画学习曲线\n",
    "%matplotlib inline\n",
    "import matplotlib.pyplot as plt\n",
    "\n",
    "score = []\n",
    "for i in range(390, 200, -10):\n",
    "    x_fschi = SelectKBest(chi2, k=i).fit_transform(x_fsva, y)\n",
    "    once = cross_val_score(RFC(n_estimators=10, random_state=0), x_fschi, y, cv=5).mean()\n",
    "    score.append(once)\n",
    "plt.plot(range(390, 200, -10), score)\n",
    "plt.show()"
   ]
  },
  {
   "cell_type": "markdown",
   "metadata": {},
   "source": [
    "通过这条曲线可以看到，k值越大模型效果越好，说明目前所有特征都是有效的，\n",
    "但是这条曲线的运行时间很长，那么可以使用更好的选择k值得方法--`p值`"
   ]
  },
  {
   "cell_type": "markdown",
   "metadata": {},
   "source": [
    "了解`p值`需要先知道卡方检验的本质，卡方检验的假设是“两组数据相互独立”。卡方检验返回卡方和p两个统计量，其中卡方值很难界定有效范围，\n",
    "而p值，一般使用0.01到0.05作为显著性水平做为判断边界\n",
    "\n",
    "| P值 | <=0.5或0.01 | >0.05或0.01 |\n",
    "| :------: | :------: | :------: |\n",
    "| 数据差异 | 差异不是自然形成的 | 这些差异是自然的样本误差 |\n",
    "| 相关性 | 两组数据是相关的 | 两组数据是相互独立的 |\n",
    "| 原假设 | 拒绝原假设，接受备选假设 | 接受原假设 |\n",
    "\n",
    "> 从特征工程的角度，希望选择卡方值很大，P值小于0.05，即和标签是显著相关的。\n",
    "调用SelectKBest之前，可以之间从chi2实例化后的模型中获得各特征所对应的卡方值和P值"
   ]
  },
  {
   "cell_type": "code",
   "execution_count": 24,
   "metadata": {},
   "outputs": [],
   "source": [
    "chivalue, pvale_chi = chi2(x_fsva, y)"
   ]
  },
  {
   "cell_type": "code",
   "execution_count": 28,
   "metadata": {},
   "outputs": [
    {
     "data": {
      "text/plain": [
       "array([0., 0., 0., 0., 0., 0., 0., 0., 0., 0., 0., 0., 0., 0., 0., 0., 0.,\n",
       "       0., 0., 0., 0., 0., 0., 0., 0., 0., 0., 0., 0., 0., 0., 0., 0., 0.,\n",
       "       0., 0., 0., 0., 0., 0., 0., 0., 0., 0., 0., 0., 0., 0., 0., 0., 0.,\n",
       "       0., 0., 0., 0., 0., 0., 0., 0., 0., 0., 0., 0., 0., 0., 0., 0., 0.,\n",
       "       0., 0., 0., 0., 0., 0., 0., 0., 0., 0., 0., 0., 0., 0., 0., 0., 0.,\n",
       "       0., 0., 0., 0., 0., 0., 0., 0., 0., 0., 0., 0., 0., 0., 0., 0., 0.,\n",
       "       0., 0., 0., 0., 0., 0., 0., 0., 0., 0., 0., 0., 0., 0., 0., 0., 0.,\n",
       "       0., 0., 0., 0., 0., 0., 0., 0., 0., 0., 0., 0., 0., 0., 0., 0., 0.,\n",
       "       0., 0., 0., 0., 0., 0., 0., 0., 0., 0., 0., 0., 0., 0., 0., 0., 0.,\n",
       "       0., 0., 0., 0., 0., 0., 0., 0., 0., 0., 0., 0., 0., 0., 0., 0., 0.,\n",
       "       0., 0., 0., 0., 0., 0., 0., 0., 0., 0., 0., 0., 0., 0., 0., 0., 0.,\n",
       "       0., 0., 0., 0., 0., 0., 0., 0., 0., 0., 0., 0., 0., 0., 0., 0., 0.,\n",
       "       0., 0., 0., 0., 0., 0., 0., 0., 0., 0., 0., 0., 0., 0., 0., 0., 0.,\n",
       "       0., 0., 0., 0., 0., 0., 0., 0., 0., 0., 0., 0., 0., 0., 0., 0., 0.,\n",
       "       0., 0., 0., 0., 0., 0., 0., 0., 0., 0., 0., 0., 0., 0., 0., 0., 0.,\n",
       "       0., 0., 0., 0., 0., 0., 0., 0., 0., 0., 0., 0., 0., 0., 0., 0., 0.,\n",
       "       0., 0., 0., 0., 0., 0., 0., 0., 0., 0., 0., 0., 0., 0., 0., 0., 0.,\n",
       "       0., 0., 0., 0., 0., 0., 0., 0., 0., 0., 0., 0., 0., 0., 0., 0., 0.,\n",
       "       0., 0., 0., 0., 0., 0., 0., 0., 0., 0., 0., 0., 0., 0., 0., 0., 0.,\n",
       "       0., 0., 0., 0., 0., 0., 0., 0., 0., 0., 0., 0., 0., 0., 0., 0., 0.,\n",
       "       0., 0., 0., 0., 0., 0., 0., 0., 0., 0., 0., 0., 0., 0., 0., 0., 0.,\n",
       "       0., 0., 0., 0., 0., 0., 0., 0., 0., 0., 0., 0., 0., 0., 0., 0., 0.,\n",
       "       0., 0., 0., 0., 0., 0., 0., 0., 0., 0., 0., 0., 0., 0., 0., 0., 0.,\n",
       "       0.])"
      ]
     },
     "execution_count": 28,
     "metadata": {},
     "output_type": "execute_result"
    }
   ],
   "source": [
    "pvale_chi"
   ]
  },
  {
   "cell_type": "code",
   "execution_count": 32,
   "metadata": {},
   "outputs": [
    {
     "data": {
      "text/plain": [
       "0.9390476190476191"
      ]
     },
     "execution_count": 32,
     "metadata": {},
     "output_type": "execute_result"
    }
   ],
   "source": [
    "# k值取多少？要消除所有p值大于设定值 -- p值大于0.05\n",
    "k = chivalue.shape[0] - (pvale_chi>0.05).sum()\n",
    "x_fschi = SelectKBest(chi2, k=k).fit_transform(x_fsva, y)\n",
    "cross_val_score(RFC(n_estimators=10, random_state=0), x_fschi, y, cv=5).mean()"
   ]
  },
  {
   "cell_type": "markdown",
   "metadata": {},
   "source": [
    "#### 3.1.2.2 F检验\n",
    "F检验，又叫ANOVA，方差齐性检验，是用来捕捉每个特征与标签**线性关系**的检验，F检验既可以做归回也可以做分类，因此\n",
    "包含`feature_selection.f_classif`(F检验分类)和`feature_selection.f_regression`(F检验回归)。\n",
    "F检验分类用于标签是离散的数据，而F检验回归用于标签是连续型的数据。\n",
    "\n",
    "和卡方检验一样，F检验也需要跟`SelectKBest`连用，并且可以直接输出统计量来设置一个k值，***F检验在数据服从正态分布时的效果比较稳定，所以需要先将数据转换为服从整体分布的方式***\n",
    "\n",
    "F检验的本质是寻找两组数据之间的线性关系，其假设原则是“数据不存在显著线性关系”。它返回F值和P值两个统计量。和卡方一样，**希望选择P值小于0.05或0.01的特征，这些特征与标签有显著的线性关系**"
   ]
  },
  {
   "cell_type": "code",
   "execution_count": 49,
   "metadata": {},
   "outputs": [],
   "source": [
    "from sklearn.feature_selection import f_classif\n",
    "\n",
    "F, pvale_f = f_classif(X_var0, y)"
   ]
  },
  {
   "cell_type": "code",
   "execution_count": 50,
   "metadata": {},
   "outputs": [],
   "source": [
    "k2 = F.shape[0] - (pvale_f > 0.05).sum()"
   ]
  },
  {
   "cell_type": "code",
   "execution_count": 52,
   "metadata": {},
   "outputs": [
    {
     "data": {
      "text/plain": [
       "0.9367619047619048"
      ]
     },
     "execution_count": 52,
     "metadata": {},
     "output_type": "execute_result"
    }
   ],
   "source": [
    "x_fschi2 = SelectKBest(f_classif, k=k2).fit_transform(X_var0, y)\n",
    "cross_val_score(RFC(n_estimators=10, random_state=0), x_fschi2, y, cv=5).mean()"
   ]
  },
  {
   "cell_type": "markdown",
   "metadata": {},
   "source": [
    "#### 3.1.2.3 互信息法\n",
    "互信息法是用来捕捉每个特征与标签之间任意关系(包括线性和非线性关系)的过滤方法。和F检验相似，既可以做回归也可以做分类，\n",
    "并且包含两个类`feature_selection.mutual_info_classif`(互信息分类)和`feature_selection.mutual_info_regression`(互信息回归)。\n",
    "这两个类的用法和参数与F检验一样，但是功能比F检验更强大，F检验只能检测线性关系，互信息可以找出任意关系\n",
    "\n",
    "互信息法不返回p值和F值类似的统计量，而是返回“每个特征与标签的互信息统计量的估计”，这个估计是在[0,1]之间，0表示相互独立，1则表示完全相关"
   ]
  },
  {
   "cell_type": "code",
   "execution_count": 58,
   "metadata": {},
   "outputs": [
    {
     "data": {
      "text/plain": [
       "0.9393571428571429"
      ]
     },
     "execution_count": 58,
     "metadata": {},
     "output_type": "execute_result"
    }
   ],
   "source": [
    "from sklearn.feature_selection import mutual_info_classif as MIC\n",
    "\n",
    "result = MIC(X_var0, y)\n",
    "k3 = result.shape[0] - sum(result<=0)\n",
    "x_fsmic = SelectKBest(MIC, k=k3).fit_transform(X_var0, y)\n",
    "cross_val_score(RFC(n_estimators=10, random_state=0), x_fsmic, y, cv=5).mean()"
   ]
  },
  {
   "cell_type": "markdown",
   "metadata": {},
   "source": [
    "> 通常先试用方差过滤，然后再使用互信息法捕捉相关性"
   ]
  },
  {
   "cell_type": "markdown",
   "metadata": {},
   "source": [
    "## 3.2 嵌入法 Embedded\n",
    "嵌入法是让算法自己决定使用哪些特征的方法，即特征选择和训练同时进行。嵌入法经过多次循环后得到各特征的权值系数，根据权值系数从大到小排列选择权值系数大特征。\n",
    "这些权值系数代表了特征对模型的贡献或某种重要性，所以相对于过滤法，嵌入法会更加精确到模型的效用提升，如果算法计算量不大，可以直接使用嵌入法\n",
    "\n",
    "![Embedded](特征选择_嵌入法示意图.PNG)\n",
    "\n",
    "但是嵌入法也有缺点。\n",
    "过滤法是基于统计学知识来查找范围(如p值应当低于显著性水平0.05)，而嵌入法中的权值系数没有这样的可查找范围--可以说，权值为0时对模型没有丝毫作用，但是大量特征对模型的贡献不一时，没有办法找到一个有效的临界值。这种情况下，模型权值系数就是一个超参数，或许需要学习曲线，或者根据模型本身的某些性质去判断这个超参数的最佳值应该是多少。\n",
    "另外嵌入法引入算法来挑选特征，并且每次都是是用全部特征，因此计算量会比较大。对于计算量大的算法会很耗时耗力"
   ]
  },
  {
   "cell_type": "markdown",
   "metadata": {},
   "source": [
    "### 3.2.1 嵌入法使用\n",
    "`sklearn.feature_selection.selectFromModel`。\n",
    "selectFromModel是一个元变换器，可以与任何一个拟合后有`coef_`,`feature_importance_`这种属性的算法或者参数中具有惩罚项的算法一起使用。\n",
    "\n",
    "* 对于有feature_importance_的模型来说，如果重要性低于阈值参数，则认为这些特征不重要，并且比一处。feature_importance_取值范围是[0,1],如果阈值很小，如0.0001则会去掉完全没有作用的特征\n",
    "* 对于使用惩罚项的算法，正则化惩罚项越大，特征在模型中对应的系数就会越小。当正则化惩罚项达到一定程度时，部分特征系数会变为0，当正则化惩罚项继续增大时，所有特征都会趋于0。但是当发现一部分特征系数会更容易变为0，这部分系数就是可以删掉的，也就是说选择特征系数比较大的特征\n",
    "\n",
    "##### 参数\n",
    "| 参数 | 说明 |\n",
    "| :------ | :------ |\n",
    "| ***estimator*** | 使用的模型评估器，只要是带coef_或者feature_importance_属性;或者参数大有惩罚项的模型都可以使用 |\n",
    "| ***threshold*** | 特征重要性阈值，重要性低于这个阈值的都会被删除 |\n",
    "| prefit | 默认False,判断是否将实例化后的模型直接传递给构造函数，如果为Ture,则必须直接调用fit和truesform，不能使用fit_truesform,并且selectFromModel不能直接和corss_var_score,GridSearchCV和克隆估计器类似实用程序一起使用 |\n",
    "| norm_order | k可以输入非0整数，正无穷、负无穷默认为1；在评估器coef_属性高于一维的情况下，用于过滤低于阈值的系数向量的范数的阶数|\n",
    "| max_features | 在阈值设定下，要选择最大的特征数。要禁用阈值并仅根据max_features选择，设置threshold=-np.inf |"
   ]
  },
  {
   "cell_type": "code",
   "execution_count": 60,
   "metadata": {},
   "outputs": [],
   "source": [
    "from sklearn.feature_selection import SelectFromModel\n",
    "from sklearn.ensemble import RandomForestClassifier as RFC\n",
    "\n",
    "RFC_ = RFC(n_estimators=10, random_state=0)  # 随机森林实例化\n",
    "X_embedded = SelectFromModel(RFC_, threshold=0.005).fit_transform(X,y)"
   ]
  },
  {
   "cell_type": "code",
   "execution_count": 62,
   "metadata": {},
   "outputs": [
    {
     "data": {
      "text/plain": [
       "(42000, 47)"
      ]
     },
     "execution_count": 62,
     "metadata": {},
     "output_type": "execute_result"
    }
   ],
   "source": [
    "X_embedded.shape"
   ]
  },
  {
   "cell_type": "code",
   "execution_count": 66,
   "metadata": {},
   "outputs": [
    {
     "data": {
      "image/png": "[encoded data removed]",
      "text/plain": [
       "<Figure size 432x288 with 1 Axes>"
      ]
     },
     "metadata": {
      "needs_background": "light"
     },
     "output_type": "display_data"
    }
   ],
   "source": [
    "import numpy as np\n",
    "import matplotlib.pyplot as plt\n",
    "from sklearn.model_selection import cross_val_score\n",
    "\n",
    "RFC_.fit(X,y).feature_importances_\n",
    "threshold = np.linspace(0, (RFC_.fit(X,y).feature_importances_).max(),20)\n",
    "\n",
    "score = []\n",
    "for i in threshold:\n",
    "    X_embedded = SelectFromModel(RFC_, threshold=i).fit_transform(X,y)\n",
    "    once = cross_val_score(RFC_, X_embedded, y, cv=5).mean()\n",
    "    score.append(once)\n",
    "plt.plot(threshold, score)\n",
    "plt.show()"
   ]
  },
  {
   "cell_type": "markdown",
   "metadata": {},
   "source": [
    "## 3.3 包装法\n",
    "包装法也是一个特征选择和模型训练同时进行的方法，与嵌入法类似，它也以来与`coef_`,`feature_importance_`属性来完成特征选择。不同的是往往选择一个目标函数(一个专门选取特征的算法)\n",
    "\n",
    "![包装法](特征选择_包装法示意图.PNG)"
   ]
  },
  {
   "cell_type": "code",
   "execution_count": null,
   "metadata": {},
   "outputs": [],
   "source": []
  }
 ],
 "metadata": {
  "kernelspec": {
   "display_name": "Python 3",
   "language": "python",
   "name": "python3"
  },
  "language_info": {
   "codemirror_mode": {
    "name": "ipython",
    "version": 3
   },
   "file_extension": ".py",
   "mimetype": "text/x-python",
   "name": "python",
   "nbconvert_exporter": "python",
   "pygments_lexer": "ipython3",
   "version": "3.8.2"
  }
 },
 "nbformat": 4,
 "nbformat_minor": 4
}
